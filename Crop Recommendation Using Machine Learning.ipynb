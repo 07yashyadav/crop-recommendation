{
 "cells": [
  {
   "cell_type": "code",
   "execution_count": null,
   "id": "d581fda7",
   "metadata": {},
   "outputs": [],
   "source": [
    "import pandas as pd\n",
    "import numpy as np"
   ]
  },
  {
   "cell_type": "code",
   "execution_count": null,
   "id": "94b016f9",
   "metadata": {},
   "outputs": [],
   "source": [
    "crop = pd.read_csv(\"Crop_recommendation.csv\")"
   ]
  },
  {
   "cell_type": "code",
   "execution_count": null,
   "id": "b942d5b0",
   "metadata": {},
   "outputs": [],
   "source": [
    "crop.head()"
   ]
  },
  {
   "cell_type": "code",
   "execution_count": null,
   "id": "395ca0d7",
   "metadata": {},
   "outputs": [],
   "source": [
    "crop.shape"
   ]
  },
  {
   "cell_type": "code",
   "execution_count": null,
   "id": "28763dd8",
   "metadata": {},
   "outputs": [],
   "source": [
    "crop.info()"
   ]
  },
  {
   "cell_type": "code",
   "execution_count": null,
   "id": "6dc9d072",
   "metadata": {},
   "outputs": [],
   "source": [
    "crop.isnull().sum()"
   ]
  },
  {
   "cell_type": "code",
   "execution_count": null,
   "id": "db72e2ef",
   "metadata": {},
   "outputs": [],
   "source": [
    "crop.duplicated().sum()"
   ]
  },
  {
   "cell_type": "code",
   "execution_count": null,
   "id": "b6059e57",
   "metadata": {},
   "outputs": [],
   "source": [
    "crop.describe()"
   ]
  },
  {
   "cell_type": "code",
   "execution_count": null,
   "id": "61577d75",
   "metadata": {},
   "outputs": [],
   "source": [
    "crop.corr()"
   ]
  },
  {
   "cell_type": "code",
   "execution_count": null,
   "id": "eea6e529",
   "metadata": {},
   "outputs": [],
   "source": [
    "import seaborn as sns\n",
    "sns.heatmap(crop.corr(), annot=True, cbar=True)"
   ]
  },
  {
   "cell_type": "code",
   "execution_count": null,
   "id": "ceb983f1",
   "metadata": {},
   "outputs": [],
   "source": [
    "crop.label.value_counts()"
   ]
  },
  {
   "cell_type": "code",
   "execution_count": null,
   "id": "e4ed6d3a",
   "metadata": {},
   "outputs": [],
   "source": [
    "crop['label'].unique().size"
   ]
  },
  {
   "cell_type": "code",
   "execution_count": null,
   "id": "52a04cbb",
   "metadata": {},
   "outputs": [],
   "source": [
    "import matplotlib.pyplot as plt\n",
    "sns.distplot(crop['P'])\n",
    "plt.show()"
   ]
  },
  {
   "cell_type": "code",
   "execution_count": null,
   "id": "e6d6a889",
   "metadata": {},
   "outputs": [],
   "source": [
    "import matplotlib.pyplot as plt\n",
    "sns.distplot(crop['N'])\n",
    "plt.show()"
   ]
  },
  {
   "cell_type": "code",
   "execution_count": null,
   "id": "9e9b1a18",
   "metadata": {},
   "outputs": [],
   "source": [
    "crop.label.unique()"
   ]
  },
  {
   "cell_type": "code",
   "execution_count": null,
   "id": "f3163e1d",
   "metadata": {},
   "outputs": [],
   "source": [
    "crop_dict={\n",
    "    'rice': 1,\n",
    "    'maize': 2,\n",
    "    'jute': 3,\n",
    "    'cotton': 4,\n",
    "    'coconut': 5,\n",
    "    'papaya': 6,\n",
    "    'orange': 7,\n",
    "    'apple': 8,\n",
    "    'muskmelon': 9,\n",
    "    'watermelon': 10,\n",
    "    'grapes': 11,\n",
    "    'mango': 12,\n",
    "    'banana': 13,\n",
    "    'pomegranate': 14,\n",
    "    'lentil': 15,\n",
    "    'blackgram': 16,\n",
    "    'mungbean': 17,\n",
    "    'mothbeans': 18,\n",
    "    'pigeonpeas': 19,\n",
    "    'kidneybeans': 20,\n",
    "    'chickpea': 21,\n",
    "    'coffee': 22\n",
    "}\n",
    "\n",
    "crop['label'] = crop['label'].map(crop_dict)"
   ]
  },
  {
   "cell_type": "code",
   "execution_count": null,
   "id": "6e4abad3",
   "metadata": {},
   "outputs": [],
   "source": [
    "crop.head()"
   ]
  },
  {
   "cell_type": "code",
   "execution_count": null,
   "id": "461cce81",
   "metadata": {},
   "outputs": [],
   "source": [
    "crop.label.unique()"
   ]
  },
  {
   "cell_type": "code",
   "execution_count": null,
   "id": "d57c5be2",
   "metadata": {},
   "outputs": [],
   "source": [
    "crop.label.value_counts()"
   ]
  },
  {
   "cell_type": "code",
   "execution_count": null,
   "id": "f6823558",
   "metadata": {},
   "outputs": [],
   "source": [
    "X=crop.drop('label', axis = 1)\n",
    "y=crop['label']"
   ]
  },
  {
   "cell_type": "code",
   "execution_count": null,
   "id": "ae8d5f97",
   "metadata": {},
   "outputs": [],
   "source": [
    "X.head()"
   ]
  },
  {
   "cell_type": "code",
   "execution_count": null,
   "id": "19428d3a",
   "metadata": {},
   "outputs": [],
   "source": [
    "y.head()"
   ]
  },
  {
   "cell_type": "code",
   "execution_count": null,
   "id": "52674476",
   "metadata": {},
   "outputs": [],
   "source": [
    "from sklearn.model_selection import train_test_split\n",
    "X_train, X_test, y_train, y_test = train_test_split(X, y, test_size = 0.2, random_state=42)"
   ]
  },
  {
   "cell_type": "code",
   "execution_count": null,
   "id": "c5967632",
   "metadata": {},
   "outputs": [],
   "source": [
    "X_train.shape"
   ]
  },
  {
   "cell_type": "code",
   "execution_count": null,
   "id": "aeacdee1",
   "metadata": {},
   "outputs": [],
   "source": [
    "from sklearn.preprocessing import MinMaxScaler\n",
    "mx = MinMaxScaler()\n",
    "X_train = mx.fit_transform(X_train)\n",
    "X_test = mx.transform(X_test)"
   ]
  },
  {
   "cell_type": "code",
   "execution_count": null,
   "id": "d7dae3bc",
   "metadata": {},
   "outputs": [],
   "source": [
    "X_train"
   ]
  },
  {
   "cell_type": "code",
   "execution_count": null,
   "id": "5fcb3397",
   "metadata": {},
   "outputs": [],
   "source": [
    "from sklearn.preprocessing import StandardScaler\n",
    "sc = StandardScaler()\n",
    "sc.fit(X_train)\n",
    "X_train = sc.transform(X_train)\n",
    "X_test=sc.transform(X_test)"
   ]
  },
  {
   "cell_type": "code",
   "execution_count": null,
   "id": "00d008da",
   "metadata": {},
   "outputs": [],
   "source": [
    "from sklearn.linear_model import LogisticRegression\n",
    "from sklearn.naive_bayes import GaussianNB\n",
    "from sklearn.svm import SVC\n",
    "from sklearn.neighbors import KNeighborsClassifier\n",
    "from sklearn.tree import DecisionTreeClassifier, ExtraTreeClassifier\n",
    "from sklearn.ensemble import RandomForestClassifier, BaggingClassifier, GradientBoostingClassifier, AdaBoostClassifier\n",
    "from sklearn.metrics import accuracy_score"
   ]
  },
  {
   "cell_type": "code",
   "execution_count": null,
   "id": "acd042c0",
   "metadata": {},
   "outputs": [],
   "source": [
    "models = {\n",
    "    'LogisticRegression': LogisticRegression(),\n",
    "    'GaussianNB':GaussianNB(),\n",
    "    'SVC':SVC(),\n",
    "    'KNeighborsClassifier':KNeighborsClassifier(),\n",
    "    'DecisionTreeClassifier':DecisionTreeClassifier(),\n",
    "    'ExtraTreeClassifier':ExtraTreeClassifier(),\n",
    "    'RandomForestClassifier':RandomForestClassifier(),\n",
    "    'BaggingClassifier':BaggingClassifier(),\n",
    "    'GradientBoostingClassifier':GradientBoostingClassifier(),\n",
    "    'AdaBoostClassifier':AdaBoostClassifier()\n",
    "}"
   ]
  },
  {
   "cell_type": "code",
   "execution_count": null,
   "id": "bb52d05e",
   "metadata": {},
   "outputs": [],
   "source": [
    "for name, model in models.items():\n",
    "    model.fit(X_train, y_train)\n",
    "    y_pred = model.predict(X_test)\n",
    "    score = accuracy_score(y_test, y_pred)\n",
    "    print(f\"{name} model with accuracy: {score}\")"
   ]
  },
  {
   "cell_type": "code",
   "execution_count": null,
   "id": "e016a667",
   "metadata": {},
   "outputs": [],
   "source": [
    "randclf = RandomForestClassifier()\n",
    "randclf.fit(X_train, y_train)\n",
    "y_pred = randclf.predict(X_test)\n",
    "accuracy_score(y_test, y_pred)"
   ]
  },
  {
   "cell_type": "code",
   "execution_count": null,
   "id": "7c341598",
   "metadata": {},
   "outputs": [],
   "source": [
    "crop.columns"
   ]
  },
  {
   "cell_type": "code",
   "execution_count": null,
   "id": "1cc06e41",
   "metadata": {},
   "outputs": [],
   "source": [
    "def recommendation(N,P,K,temperature,humidity,ph,rainfall):\n",
    "    features = np.array([[N,P,K,temperature,humidity,ph,rainfall]])\n",
    "    mx_features = mx.fit_transform(features)\n",
    "    sc_mx_features = sc.fit_transform(mx_features)\n",
    "    prediction = randclf.predict(sc_mx_features).reshape(1,-1)\n",
    "    return prediction[0]"
   ]
  },
  {
   "cell_type": "code",
   "execution_count": null,
   "id": "2612b6f9",
   "metadata": {},
   "outputs": [],
   "source": [
    "crop.head()"
   ]
  },
  {
   "cell_type": "code",
   "execution_count": null,
   "id": "c60e0c24",
   "metadata": {},
   "outputs": [],
   "source": [
    "N=90\n",
    "P= 42\n",
    "K= 43\n",
    "temperature= 20.879744\n",
    "humidity=82.002744\n",
    "ph=6.502985\n",
    "rainfall=202.935536\n",
    "\n",
    "predict = recommendation(N,P,K,temperature,humidity,ph,rainfall)"
   ]
  },
  {
   "cell_type": "code",
   "execution_count": null,
   "id": "bf67e32d",
   "metadata": {},
   "outputs": [],
   "source": [
    "predict"
   ]
  },
  {
   "cell_type": "code",
   "execution_count": null,
   "id": "242f371d",
   "metadata": {},
   "outputs": [],
   "source": [
    "import pickle\n",
    "pickle.dump(randclf, open('model.pkl', 'wb'))\n",
    "pickle.dump(mx, open('minmaxscaler.pkl', 'wb'))\n",
    "pickle.dump(sc, open('standscaler.pkl', 'wb'))"
   ]
  },
  {
   "cell_type": "code",
   "execution_count": null,
   "id": "297b649c",
   "metadata": {},
   "outputs": [],
   "source": []
  }
 ],
 "metadata": {
  "kernelspec": {
   "display_name": "Python 3",
   "language": "python",
   "name": "python3"
  },
  "language_info": {
   "codemirror_mode": {
    "name": "ipython",
    "version": 3
   },
   "file_extension": ".py",
   "mimetype": "text/x-python",
   "name": "python",
   "nbconvert_exporter": "python",
   "pygments_lexer": "ipython3",
   "version": "3.12.0"
  }
 },
 "nbformat": 4,
 "nbformat_minor": 5
}
